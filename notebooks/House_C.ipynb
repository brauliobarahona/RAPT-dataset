{
 "cells": [
  {
   "cell_type": "code",
   "execution_count": null,
   "metadata": {},
   "outputs": [],
   "source": [
    "import sys\n",
    "sys.path.insert(0,\"./../\") #so we can import our modules properly"
   ]
  },
  {
   "cell_type": "code",
   "execution_count": null,
   "metadata": {},
   "outputs": [],
   "source": [
    "# iPhython\n",
    "from IPython.core.display import display, HTML\n",
    "display(HTML(\"<style>.container { width:90% !important; }</style>\"))\n",
    "\n",
    "from matplotlib import rcParams\n",
    "import matplotlib.pyplot as plt\n",
    "%matplotlib notebook\n",
    "%matplotlib notebook\n",
    "\n",
    "import numpy as np\n",
    "import pandas as pd"
   ]
  },
  {
   "cell_type": "markdown",
   "metadata": {},
   "source": [
    "# House C - Energy"
   ]
  },
  {
   "cell_type": "code",
   "execution_count": null,
   "metadata": {},
   "outputs": [],
   "source": [
    "path_to_house = \"./datasets/dfC_300s.hdf\"\n",
    "df_house = pd.read_hdf(path_to_house)\n",
    "print('\\n\\nStart time: {}'.format(df_house.index[1]))\n",
    "print('End time: {}'.format(df_house.index[-1]))\n",
    "print(df_house.columns)"
   ]
  },
  {
   "cell_type": "markdown",
   "metadata": {},
   "source": [
    "## Check that boiler power does not exceed total consumed power"
   ]
  },
  {
   "cell_type": "code",
   "execution_count": null,
   "metadata": {
    "scrolled": false
   },
   "outputs": [],
   "source": [
    "meters = ['C_boiler_power']\n",
    "\n",
    "# Investigate only points in time where all values are available\n",
    "cols = ['C_total_cons_power']\n",
    "cols.extend(meters)\n",
    "df_house_noNAN = df_house.loc[:,cols].dropna(axis=0, how='any')\n",
    "\n",
    "# Check if total consumed power is larger than total of appliances\n",
    "delta = df_house_noNAN.loc[:,meters].sum(axis=1) - df_house_noNAN.loc[:,'C_total_cons_power']\n",
    "tmt = delta > 0\n",
    "\n",
    "if np.any(tmt):\n",
    "    print('Boiler Power is larger than total consumed power for some data points.')\n",
    "\n",
    "    # investigate problematic cases\n",
    "    print(\"Found {} out of {} ({:.2}%) values to be problematic.\".format(tmt.sum(), len(tmt), tmt.sum()/len(tmt)*100))\n",
    "    print(\"\")\n",
    "    print(\"Statistics of problematic values:\")\n",
    "    print(delta[tmt].describe())\n",
    "    print()\n",
    "    print((delta[tmt]/df_house_noNAN.loc[tmt, 'C_total_cons_power']).describe())\n",
    "else: \n",
    "    print(\"Total of all appliances is smaller than total consumed energy for all measurement points.\")\n"
   ]
  },
  {
   "cell_type": "code",
   "execution_count": null,
   "metadata": {
    "scrolled": false
   },
   "outputs": [],
   "source": [
    "l = ['Total Appliances = Boiler', 'Total Consumed']\n",
    "if np.any(tmt):\n",
    "    print('Boiler Power is larger than total consumed power for some data points.')\n",
    "    ## plot params ##\n",
    "    ha = 6\n",
    "    ncols = 8\n",
    "    nrows = np.sum(tmt)//ncols+1\n",
    "    fig, ax = plt.subplots(figsize=(17,3*nrows), ncols=ncols, nrows=nrows)\n",
    "    idxs = np.nonzero(tmt)[0]\n",
    "    for i, idx in enumerate(idxs):\n",
    "        minidx = idx-ha\n",
    "        maxidx = idx+ha\n",
    "        df_house_noNAN.iloc[minidx:maxidx].loc[:,'C_boiler_power'].plot(ax=ax[i//ncols, i%ncols], label='Total Appliances')\n",
    "        df_house_noNAN.iloc[minidx:maxidx].loc[:,'C_total_cons_power'].plot(ax=ax[i//ncols, i%ncols], label='Total Consumed')\n",
    "    fig.legend(l, loc='upper center')\n",
    "else: \n",
    "    print(\"Total of all appliances is smaller than total consumed energy for all measurement points.\")"
   ]
  },
  {
   "cell_type": "markdown",
   "metadata": {},
   "source": [
    "## Visualize Boiler Variables"
   ]
  },
  {
   "cell_type": "code",
   "execution_count": null,
   "metadata": {
    "scrolled": false
   },
   "outputs": [],
   "source": [
    "fig, ax = plt.subplots(ncols=1, nrows=3, figsize=(17,12), sharex=True)\n",
    "df_house.loc[:,['C_boilertemp_top', 'C_boilertemp_bottom']].plot(ax=ax[0])\n",
    "ax[0].legend(loc='upper left')\n",
    "ax2 = ax[0].twinx()\n",
    "df_house.loc[:,'C_boiler_power'].plot(ax=ax2)\n",
    "# df_house.loc[:,['C_boiler_on_utility','C_boiler_on_thermostat', 'C_boiler_on_relay']].plot(ax=ax2)\n",
    "ax2.legend(loc='upper right')\n",
    "df_house.loc[:,['C_boiler_heater_1_on', 'C_boiler_heater_2_on', 'C_boiler_heater_3_on']].plot(ax=ax[1])\n",
    "ax[1].legend()\n",
    "df_house.loc[:,['C_boiler_on_utility', 'C_boiler_on_relay','C_boiler_on_thermostat']].plot(ax=ax[2])\n",
    "ax[2].legend()"
   ]
  },
  {
   "cell_type": "code",
   "execution_count": null,
   "metadata": {},
   "outputs": [],
   "source": [
    "fig, ax = plt.subplots(ncols=1, nrows=1, figsize=(17,4), sharex=True)\n",
    "df_house.loc[:,['C_boilertemp_top', 'C_boilertemp_bottom']].plot(ax=ax)\n",
    "ax.legend(loc='upper left')\n",
    "ax2 = ax.twinx()\n",
    "# df_house.loc[:,'C_boiler_power'].plot(ax=ax2)\n",
    "df_house.loc[:,['C_boiler_on_utility','C_boiler_on_thermostat', 'C_boiler_on_relay']].plot(ax=ax2)\n",
    "ax2.legend(loc='upper right')"
   ]
  },
  {
   "cell_type": "markdown",
   "metadata": {},
   "source": [
    "## Heat Pump Power and Total Consumed Power (without HP)"
   ]
  },
  {
   "cell_type": "code",
   "execution_count": null,
   "metadata": {},
   "outputs": [],
   "source": [
    "fig, ax = plt.subplots(figsize=(17,4))\n",
    "df_house.loc[:,'C_total_cons_power'].plot(ax=ax)\n",
    "df_house.loc[:,'C_hp_power'].plot(ax=ax)\n",
    "ax.legend()"
   ]
  },
  {
   "cell_type": "markdown",
   "metadata": {},
   "source": [
    "## Visualize `C_solarlog_radiation`"
   ]
  },
  {
   "cell_type": "code",
   "execution_count": null,
   "metadata": {},
   "outputs": [],
   "source": [
    "fix, ax = plt.subplots(figsize=(17,4))\n",
    "df_house.loc[:,'C_solarlog_radiation'].plot(ax=ax)"
   ]
  },
  {
   "cell_type": "markdown",
   "metadata": {},
   "source": [
    "## Check that `C_pv_prod_power` is the sum of `C_to_batt_power` + `C_direct_cons_power`+ `C_to_net_power`"
   ]
  },
  {
   "cell_type": "code",
   "execution_count": null,
   "metadata": {},
   "outputs": [],
   "source": [
    "# Investigate only points in time where all values are available\n",
    "df_house_noNAN = df_house.loc[:,['C_pv_prod_power', 'C_to_batt_power', 'C_direct_cons_power', 'C_to_net_power']].dropna(axis=0, how='any')\n",
    "delta = df_house_noNAN.loc[:,'C_pv_prod_power'] - df_house_noNAN.loc[:,['C_to_batt_power', 'C_direct_cons_power', 'C_to_net_power']].sum(axis=1)\n",
    "print(\"Statistics of deviations:\")\n",
    "delta.describe()"
   ]
  },
  {
   "cell_type": "markdown",
   "metadata": {},
   "source": [
    "## Check that `C_total_cons_power` is the sum of `C_direct_cons_power` + `C_from_batt_power` + `C_from_net_power`"
   ]
  },
  {
   "cell_type": "code",
   "execution_count": null,
   "metadata": {},
   "outputs": [],
   "source": [
    "# Investigate only points in time where all values are available\n",
    "df_house_noNAN = df_house.loc[:,['C_total_cons_power', 'C_direct_cons_power', 'C_from_batt_power', 'C_from_net_power']].dropna(axis=0, how='any')\n",
    "delta = df_house_noNAN.loc[:,'C_total_cons_power'] - df_house_noNAN.loc[:,['C_direct_cons_power', 'C_from_batt_power', 'C_from_net_power']].sum(axis=1)\n",
    "print(\"Statistics of deviations:\")\n",
    "delta.describe()"
   ]
  },
  {
   "cell_type": "markdown",
   "metadata": {},
   "source": [
    "## Visualize Batter Power Flows"
   ]
  },
  {
   "cell_type": "code",
   "execution_count": null,
   "metadata": {},
   "outputs": [],
   "source": [
    "fig, ax = plt.subplots(figsize=(17,4))\n",
    "df_house.loc[:,['C_to_batt_power', 'C_from_batt_power']].plot(ax=ax)\n",
    "ax.legend(loc='upper left')\n",
    "ax2 = ax.twinx()\n",
    "df_house.loc[:,'C_batt_state'].plot(ax=ax2, color='green')\n",
    "ax2.legend(loc='lower left')"
   ]
  },
  {
   "cell_type": "markdown",
   "metadata": {},
   "source": [
    "# House C - Weather"
   ]
  },
  {
   "cell_type": "code",
   "execution_count": null,
   "metadata": {},
   "outputs": [],
   "source": [
    "path_to_house = \"./datasets/dfC_3600s.hdf\"\n",
    "df_weather = pd.read_hdf(path_to_house)\n",
    "print('\\n\\nStart time: {}'.format(df_weather.index[1]))\n",
    "print('End time: {}'.format(df_weather.index[-1]))\n",
    "print(df_weather.columns)"
   ]
  },
  {
   "cell_type": "code",
   "execution_count": null,
   "metadata": {},
   "outputs": [],
   "source": [
    "fig, ax = plt.subplots(figsize=(17,16), ncols=1, nrows=4, sharex=True)\n",
    "df_weather.loc[:,'C_weather_pressure'].plot(ax=ax[0])\n",
    "ax[0].legend()\n",
    "df_weather.loc[:,'C_weather_rainfall'].plot(ax=ax[1], color='orange')\n",
    "ax[1].legend()\n",
    "df_weather.loc[:,['C_weather_temperature_out', 'C_weather_temperature_in']].plot(ax=ax[2])\n",
    "ax[2].legend()\n",
    "df_weather.loc[:,['C_weather_humidity_out', 'C_weather_humidity_in']].plot(ax=ax[3])\n",
    "ax[3].legend()"
   ]
  },
  {
   "cell_type": "markdown",
   "metadata": {},
   "source": [
    "# House C - Raw Data"
   ]
  },
  {
   "cell_type": "code",
   "execution_count": null,
   "metadata": {
    "scrolled": false
   },
   "outputs": [],
   "source": [
    "import os\n",
    "base_path = \"../rawData/C/\"\n",
    "files = os.listdir(path=base_path)\n",
    "\n",
    "blacklisted = [\"capPeriods.hdf\"]\n",
    "for file in files:\n",
    "    if file in blacklisted: continue\n",
    "    print(file)\n",
    "    print(os.path.join(base_path, file))\n",
    "    df_rawData = pd.read_hdf(os.path.join(base_path, file))\n",
    "    print(df_rawData.iloc[1,0]-df_rawData.iloc[0,0])\n",
    "    print(df_rawData.iloc[-1,0]-df_rawData.iloc[-2,0])\n",
    "    print()"
   ]
  },
  {
   "cell_type": "code",
   "execution_count": null,
   "metadata": {},
   "outputs": [],
   "source": []
  }
 ],
 "metadata": {
  "kernelspec": {
   "display_name": "Python 3",
   "language": "python",
   "name": "python3"
  },
  "language_info": {
   "codemirror_mode": {
    "name": "ipython",
    "version": 3
   },
   "file_extension": ".py",
   "mimetype": "text/x-python",
   "name": "python",
   "nbconvert_exporter": "python",
   "pygments_lexer": "ipython3",
   "version": "3.6.5"
  }
 },
 "nbformat": 4,
 "nbformat_minor": 2
}
