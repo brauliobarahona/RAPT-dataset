{
 "cells": [
  {
   "cell_type": "code",
   "execution_count": null,
   "metadata": {},
   "outputs": [],
   "source": [
    "import sys\n",
    "sys.path.insert(0,\"./../\") #so we can import our modules properly"
   ]
  },
  {
   "cell_type": "code",
   "execution_count": null,
   "metadata": {},
   "outputs": [],
   "source": [
    "# iPhython\n",
    "from IPython.core.display import display, HTML\n",
    "display(HTML(\"<style>.container { width:90% !important; }</style>\"))\n",
    "\n",
    "from matplotlib import rcParams\n",
    "import matplotlib.pyplot as plt\n",
    "%matplotlib notebook\n",
    "%matplotlib notebook\n",
    "\n",
    "import numpy as np\n",
    "import pandas as pd"
   ]
  },
  {
   "cell_type": "markdown",
   "metadata": {},
   "source": [
    "# House A"
   ]
  },
  {
   "cell_type": "code",
   "execution_count": null,
   "metadata": {},
   "outputs": [],
   "source": [
    "path_to_house = \"./datasets/dfA_300s.hdf\"\n",
    "df_house = pd.read_hdf(path_to_house)\n",
    "print('\\n\\nStart time: {}'.format(df_house.index[1]))\n",
    "print('End time: {}'.format(df_house.index[-1]))\n",
    "print(df_house.columns)"
   ]
  },
  {
   "cell_type": "markdown",
   "metadata": {},
   "source": [
    "## Total Imported Power and Total Submetered Power"
   ]
  },
  {
   "cell_type": "code",
   "execution_count": null,
   "metadata": {
    "scrolled": false
   },
   "outputs": [],
   "source": [
    "\n",
    "\n",
    "meters = ['A_additional_power', 'A_dishwasher_power', 'A_hp_power', 'A_sauna_power', 'A_stove_power', 'A_washing_machine_power']\n",
    "# Investigate only points in time where all values are available\n",
    "cols = ['A_imp_power']\n",
    "cols.extend(meters)\n",
    "df_house_noNAN = df_house.loc[:,cols].dropna(axis=0, how='any')\n",
    "\n",
    "# Check if total consumed power is larger than total of appliances\n",
    "delta = df_house_noNAN.loc[:,meters].sum(axis=1) - df_house_noNAN.loc[:,'A_imp_power']\n",
    "tmt = delta > 0\n",
    "\n",
    "if np.any(tmt):\n",
    "    # investigate problematic cases\n",
    "    print(\"Found {} out of {} ({:.2}%) values to be problematic.\".format(tmt.sum(), len(tmt), tmt.sum()/len(tmt)*100))\n",
    "    print(\"\")\n",
    "    print(\"Statistics of problematic values:\")\n",
    "    print(delta[tmt].describe())\n",
    "    print()\n",
    "    print((delta[tmt]/df_house_noNAN.loc[tmt, 'A_imp_power']).describe())\n",
    "else: \n",
    "    print(\"Total of all appliances is smaller than total consumed energy for all measurement points.\")\n",
    "\n",
    "    \n",
    "# Found 219 out of 157804 (0.14%) values to be problematic. git commit: c32a2a752bfa71db5a31bad44ae5047fbb46b88b"
   ]
  },
  {
   "cell_type": "code",
   "execution_count": null,
   "metadata": {
    "scrolled": false
   },
   "outputs": [],
   "source": [
    "l = ['Total Appliances', 'Total Consumed']\n",
    "l.extend(meters)\n",
    "if np.any(tmt):\n",
    "    ## plot params ##\n",
    "    ha = 6\n",
    "    ncols = 8\n",
    "    nrows = np.sum(tmt)//ncols+1\n",
    "    fig, ax = plt.subplots(figsize=(24,3*nrows), ncols=ncols, nrows=nrows)\n",
    "    idxs = np.nonzero(tmt)[0]\n",
    "    for i, idx in enumerate(idxs):\n",
    "        minidx = idx-ha\n",
    "        maxidx = idx+ha\n",
    "        df_house_noNAN.loc[:,meters].sum(axis=1).iloc[minidx:maxidx].plot(ax=ax[i//ncols, i%ncols], label='Total Appliances')\n",
    "        df_house_noNAN.iloc[minidx:maxidx].loc[:,'A_imp_power'].plot(ax=ax[i//ncols, i%ncols], label='Total Consumed')\n",
    "        for meter in meters:\n",
    "            df_house_noNAN.iloc[minidx:maxidx].loc[:,meter].plot(ax=ax[i//ncols, i%ncols], label=meter)\n",
    "        ax[i//ncols, i%ncols]\n",
    "    fig.legend(l, loc='upper center')\n",
    "else: \n",
    "    print(\"Total of all appliances is smaller than total consumed energy for all measurement points.\")"
   ]
  },
  {
   "cell_type": "markdown",
   "metadata": {},
   "source": [
    "## Heat Pump"
   ]
  },
  {
   "cell_type": "code",
   "execution_count": null,
   "metadata": {},
   "outputs": [],
   "source": [
    "fig, ax = plt.subplots(figsize=(24,5))\n",
    "# df_house.loc['2017-04-01 00:00:00':'2017-04-02 23:59:59','A_hp_power'].plot(ax=ax)\n",
    "df_house.loc[:,'A_hp_power'].plot(ax=ax)"
   ]
  },
  {
   "cell_type": "markdown",
   "metadata": {},
   "source": [
    "## Sauna "
   ]
  },
  {
   "cell_type": "code",
   "execution_count": null,
   "metadata": {},
   "outputs": [],
   "source": [
    "fig, ax = plt.subplots(figsize=(17,5))\n",
    "# df_house.loc['2017-04-01 00:00:00':'2017-04-02 23:59:59','A_hp_power'].plot(ax=ax)\n",
    "df_house.loc[:,'A_sauna_power'].plot(ax=ax)"
   ]
  },
  {
   "cell_type": "markdown",
   "metadata": {},
   "source": [
    "# House A - Raw Data"
   ]
  },
  {
   "cell_type": "code",
   "execution_count": null,
   "metadata": {},
   "outputs": [],
   "source": [
    "import os\n",
    "base_path = \"../rawData/A/\"\n",
    "files = os.listdir(path=base_path)\n",
    "\n",
    "blacklisted = [\"capPeriods.hdf\"]\n",
    "for file in files:\n",
    "    if file in blacklisted: continue\n",
    "    print(file)\n",
    "    print(os.path.join(base_path, file))\n",
    "    df_rawData = pd.read_hdf(os.path.join(base_path, file))\n",
    "    print(df_rawDaxta.iloc[1,0]-df_rawData.iloc[0,0])\n",
    "    print(df_rawData.iloc[-1,0]-df_rawData.iloc[-2,0])\n",
    "    print()"
   ]
  }
 ],
 "metadata": {
  "kernelspec": {
   "display_name": "Python 3",
   "language": "python",
   "name": "python3"
  },
  "language_info": {
   "codemirror_mode": {
    "name": "ipython",
    "version": 3
   },
   "file_extension": ".py",
   "mimetype": "text/x-python",
   "name": "python",
   "nbconvert_exporter": "python",
   "pygments_lexer": "ipython3",
   "version": "3.6.5"
  }
 },
 "nbformat": 4,
 "nbformat_minor": 2
}
